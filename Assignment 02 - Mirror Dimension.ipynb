{
 "cells": [
  {
   "cell_type": "markdown",
   "id": "f08e0647",
   "metadata": {},
   "source": [
    "# Assignment 02 - *Mirror Dimension* #"
   ]
  },
  {
   "cell_type": "code",
   "execution_count": 7,
   "id": "5edb2276",
   "metadata": {},
   "outputs": [
    {
     "name": "stdout",
     "output_type": "stream",
     "text": [
      "Input  : EdYoda\n",
      "Output : adoYdE \n"
     ]
    }
   ],
   "source": [
    "x = str(input(\"Input  : \"))\n",
    "reverse = \" \"\n",
    "for i in x:\n",
    "    reverse = i + reverse\n",
    "print(\"Output :\",reverse)"
   ]
  }
 ],
 "metadata": {
  "kernelspec": {
   "display_name": "Python 3 (ipykernel)",
   "language": "python",
   "name": "python3"
  },
  "language_info": {
   "codemirror_mode": {
    "name": "ipython",
    "version": 3
   },
   "file_extension": ".py",
   "mimetype": "text/x-python",
   "name": "python",
   "nbconvert_exporter": "python",
   "pygments_lexer": "ipython3",
   "version": "3.10.2"
  }
 },
 "nbformat": 4,
 "nbformat_minor": 5
}
